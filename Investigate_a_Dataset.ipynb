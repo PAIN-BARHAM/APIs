{
  "cells": [
    {
      "cell_type": "markdown",
      "metadata": {
        "id": "view-in-github",
        "colab_type": "text"
      },
      "source": [
        "<a href=\"https://colab.research.google.com/github/PAIN-BARHAM/APIs/blob/master/Investigate_a_Dataset.ipynb\" target=\"_parent\"><img src=\"https://colab.research.google.com/assets/colab-badge.svg\" alt=\"Open In Colab\"/></a>"
      ]
    },
    {
      "cell_type": "markdown",
      "metadata": {
        "id": "ko0YMIdrE0vg"
      },
      "source": [
        "# Project: Investigate a Dataset - No Show Appointments\n",
        "\n",
        "## Table of Contents\n",
        "<ul>\n",
        "<li><a href=\"#intro\">Introduction</a></li>\n",
        "<li><a href=\"#wrangling\">Data Wrangling</a></li>\n",
        "<li><a href=\"#eda\">Exploratory Data Analysis</a></li>\n",
        "<li><a href=\"#conclusions\">Conclusions</a></li>\n",
        "</ul>"
      ]
    },
    {
      "cell_type": "markdown",
      "metadata": {
        "id": "rwOed6UTE0vj"
      },
      "source": [
        "<a id='intro'></a>\n",
        "## Introduction\n",
        "\n",
        "### Dataset Description\n",
        "\n",
        "#### No show Appointments Datasets: ####\n",
        "\n",
        "- This dataset collects information from 100k medical appointments in Brazil and is focused on the question of whether or not patients show up for their appointment. A number of characteristics about the patient are included in each row.\n",
        "\n",
        "* patientid: Identification of a patient (Number)\n",
        "* appointmentid: Identification of each appointment (Number)\n",
        "* Gender: the geneder of the patient (M or F)\n",
        "* ScheduledDay: The day of the actuall appointment, when they have to visit the doctor (Date)\n",
        "* AppointmentDay: The day someone called or registered the appointment, this is before appointment of course (Date)\n",
        "* Age: How old is the patient (Number)\n",
        "* Neighbourhood: Where the appointment takes place (String)\n",
        "* Scholarship: True of False (Boolean)\n",
        "* Hipertension: True or False (Boolean)\n",
        "* Diabetes: True or False (Boolean)\n",
        "* Alcoholism: True or False (Boolean)\n",
        "* Handcap: True or False (Boolean)\n",
        "* SMS_received: 1 or more messages sent to the patient. (Number)\n",
        "* No-show: True or False. (Boolean)\n",
        "\n",
        "### Question(s) for Analysis\n",
        "\n",
        "- why many poeple miss their appointments?\n",
        "- Is there any relation with missing the appointments with any factor?"
      ]
    },
    {
      "cell_type": "code",
      "execution_count": null,
      "metadata": {
        "collapsed": true,
        "id": "0PpezbY6E0vl"
      },
      "outputs": [],
      "source": [
        "# Import libraries\n",
        "\n",
        "import numpy as np\n",
        "import pandas as pd\n",
        "import seaborn as sns\n",
        "\n",
        "# Adding the magic command to show the plots in the notebook\n",
        "%matplotlib inline"
      ]
    },
    {
      "cell_type": "markdown",
      "metadata": {
        "id": "qmAFVkQME0vm"
      },
      "source": [
        "<a id='wrangling'></a>\n",
        "## Data Wrangling"
      ]
    },
    {
      "cell_type": "code",
      "execution_count": null,
      "metadata": {
        "id": "y4gQ5G9AE0vn"
      },
      "outputs": [],
      "source": [
        "# No-show  is the independent variable.\n",
        "# No-show = Yes means the patient did not show up to their appointment.\n",
        "# No-show = No means the patient showed up to their appointment.\n",
        "# other variables are dependent variables."
      ]
    },
    {
      "cell_type": "code",
      "execution_count": null,
      "metadata": {
        "collapsed": true,
        "id": "eSnqX5uEE0vo",
        "outputId": "9d11ed0b-18ea-4ae8-d433-cfdfb3de5126"
      },
      "outputs": [
        {
          "data": {
            "text/html": [
              "<div>\n",
              "<style scoped>\n",
              "    .dataframe tbody tr th:only-of-type {\n",
              "        vertical-align: middle;\n",
              "    }\n",
              "\n",
              "    .dataframe tbody tr th {\n",
              "        vertical-align: top;\n",
              "    }\n",
              "\n",
              "    .dataframe thead th {\n",
              "        text-align: right;\n",
              "    }\n",
              "</style>\n",
              "<table border=\"1\" class=\"dataframe\">\n",
              "  <thead>\n",
              "    <tr style=\"text-align: right;\">\n",
              "      <th></th>\n",
              "      <th>PatientId</th>\n",
              "      <th>AppointmentID</th>\n",
              "      <th>Gender</th>\n",
              "      <th>ScheduledDay</th>\n",
              "      <th>AppointmentDay</th>\n",
              "      <th>Age</th>\n",
              "      <th>Neighbourhood</th>\n",
              "      <th>Scholarship</th>\n",
              "      <th>Hipertension</th>\n",
              "      <th>Diabetes</th>\n",
              "      <th>Alcoholism</th>\n",
              "      <th>Handcap</th>\n",
              "      <th>SMS_received</th>\n",
              "      <th>No-show</th>\n",
              "    </tr>\n",
              "  </thead>\n",
              "  <tbody>\n",
              "    <tr>\n",
              "      <th>0</th>\n",
              "      <td>2.987250e+13</td>\n",
              "      <td>5642903</td>\n",
              "      <td>F</td>\n",
              "      <td>2016-04-29T18:38:08Z</td>\n",
              "      <td>2016-04-29T00:00:00Z</td>\n",
              "      <td>62</td>\n",
              "      <td>JARDIM DA PENHA</td>\n",
              "      <td>0</td>\n",
              "      <td>1</td>\n",
              "      <td>0</td>\n",
              "      <td>0</td>\n",
              "      <td>0</td>\n",
              "      <td>0</td>\n",
              "      <td>No</td>\n",
              "    </tr>\n",
              "    <tr>\n",
              "      <th>1</th>\n",
              "      <td>5.589978e+14</td>\n",
              "      <td>5642503</td>\n",
              "      <td>M</td>\n",
              "      <td>2016-04-29T16:08:27Z</td>\n",
              "      <td>2016-04-29T00:00:00Z</td>\n",
              "      <td>56</td>\n",
              "      <td>JARDIM DA PENHA</td>\n",
              "      <td>0</td>\n",
              "      <td>0</td>\n",
              "      <td>0</td>\n",
              "      <td>0</td>\n",
              "      <td>0</td>\n",
              "      <td>0</td>\n",
              "      <td>No</td>\n",
              "    </tr>\n",
              "    <tr>\n",
              "      <th>2</th>\n",
              "      <td>4.262962e+12</td>\n",
              "      <td>5642549</td>\n",
              "      <td>F</td>\n",
              "      <td>2016-04-29T16:19:04Z</td>\n",
              "      <td>2016-04-29T00:00:00Z</td>\n",
              "      <td>62</td>\n",
              "      <td>MATA DA PRAIA</td>\n",
              "      <td>0</td>\n",
              "      <td>0</td>\n",
              "      <td>0</td>\n",
              "      <td>0</td>\n",
              "      <td>0</td>\n",
              "      <td>0</td>\n",
              "      <td>No</td>\n",
              "    </tr>\n",
              "    <tr>\n",
              "      <th>3</th>\n",
              "      <td>8.679512e+11</td>\n",
              "      <td>5642828</td>\n",
              "      <td>F</td>\n",
              "      <td>2016-04-29T17:29:31Z</td>\n",
              "      <td>2016-04-29T00:00:00Z</td>\n",
              "      <td>8</td>\n",
              "      <td>PONTAL DE CAMBURI</td>\n",
              "      <td>0</td>\n",
              "      <td>0</td>\n",
              "      <td>0</td>\n",
              "      <td>0</td>\n",
              "      <td>0</td>\n",
              "      <td>0</td>\n",
              "      <td>No</td>\n",
              "    </tr>\n",
              "    <tr>\n",
              "      <th>4</th>\n",
              "      <td>8.841186e+12</td>\n",
              "      <td>5642494</td>\n",
              "      <td>F</td>\n",
              "      <td>2016-04-29T16:07:23Z</td>\n",
              "      <td>2016-04-29T00:00:00Z</td>\n",
              "      <td>56</td>\n",
              "      <td>JARDIM DA PENHA</td>\n",
              "      <td>0</td>\n",
              "      <td>1</td>\n",
              "      <td>1</td>\n",
              "      <td>0</td>\n",
              "      <td>0</td>\n",
              "      <td>0</td>\n",
              "      <td>No</td>\n",
              "    </tr>\n",
              "    <tr>\n",
              "      <th>...</th>\n",
              "      <td>...</td>\n",
              "      <td>...</td>\n",
              "      <td>...</td>\n",
              "      <td>...</td>\n",
              "      <td>...</td>\n",
              "      <td>...</td>\n",
              "      <td>...</td>\n",
              "      <td>...</td>\n",
              "      <td>...</td>\n",
              "      <td>...</td>\n",
              "      <td>...</td>\n",
              "      <td>...</td>\n",
              "      <td>...</td>\n",
              "      <td>...</td>\n",
              "    </tr>\n",
              "    <tr>\n",
              "      <th>110522</th>\n",
              "      <td>2.572134e+12</td>\n",
              "      <td>5651768</td>\n",
              "      <td>F</td>\n",
              "      <td>2016-05-03T09:15:35Z</td>\n",
              "      <td>2016-06-07T00:00:00Z</td>\n",
              "      <td>56</td>\n",
              "      <td>MARIA ORTIZ</td>\n",
              "      <td>0</td>\n",
              "      <td>0</td>\n",
              "      <td>0</td>\n",
              "      <td>0</td>\n",
              "      <td>0</td>\n",
              "      <td>1</td>\n",
              "      <td>No</td>\n",
              "    </tr>\n",
              "    <tr>\n",
              "      <th>110523</th>\n",
              "      <td>3.596266e+12</td>\n",
              "      <td>5650093</td>\n",
              "      <td>F</td>\n",
              "      <td>2016-05-03T07:27:33Z</td>\n",
              "      <td>2016-06-07T00:00:00Z</td>\n",
              "      <td>51</td>\n",
              "      <td>MARIA ORTIZ</td>\n",
              "      <td>0</td>\n",
              "      <td>0</td>\n",
              "      <td>0</td>\n",
              "      <td>0</td>\n",
              "      <td>0</td>\n",
              "      <td>1</td>\n",
              "      <td>No</td>\n",
              "    </tr>\n",
              "    <tr>\n",
              "      <th>110524</th>\n",
              "      <td>1.557663e+13</td>\n",
              "      <td>5630692</td>\n",
              "      <td>F</td>\n",
              "      <td>2016-04-27T16:03:52Z</td>\n",
              "      <td>2016-06-07T00:00:00Z</td>\n",
              "      <td>21</td>\n",
              "      <td>MARIA ORTIZ</td>\n",
              "      <td>0</td>\n",
              "      <td>0</td>\n",
              "      <td>0</td>\n",
              "      <td>0</td>\n",
              "      <td>0</td>\n",
              "      <td>1</td>\n",
              "      <td>No</td>\n",
              "    </tr>\n",
              "    <tr>\n",
              "      <th>110525</th>\n",
              "      <td>9.213493e+13</td>\n",
              "      <td>5630323</td>\n",
              "      <td>F</td>\n",
              "      <td>2016-04-27T15:09:23Z</td>\n",
              "      <td>2016-06-07T00:00:00Z</td>\n",
              "      <td>38</td>\n",
              "      <td>MARIA ORTIZ</td>\n",
              "      <td>0</td>\n",
              "      <td>0</td>\n",
              "      <td>0</td>\n",
              "      <td>0</td>\n",
              "      <td>0</td>\n",
              "      <td>1</td>\n",
              "      <td>No</td>\n",
              "    </tr>\n",
              "    <tr>\n",
              "      <th>110526</th>\n",
              "      <td>3.775115e+14</td>\n",
              "      <td>5629448</td>\n",
              "      <td>F</td>\n",
              "      <td>2016-04-27T13:30:56Z</td>\n",
              "      <td>2016-06-07T00:00:00Z</td>\n",
              "      <td>54</td>\n",
              "      <td>MARIA ORTIZ</td>\n",
              "      <td>0</td>\n",
              "      <td>0</td>\n",
              "      <td>0</td>\n",
              "      <td>0</td>\n",
              "      <td>0</td>\n",
              "      <td>1</td>\n",
              "      <td>No</td>\n",
              "    </tr>\n",
              "  </tbody>\n",
              "</table>\n",
              "<p>110527 rows × 14 columns</p>\n",
              "</div>"
            ],
            "text/plain": [
              "           PatientId  AppointmentID Gender          ScheduledDay  \\\n",
              "0       2.987250e+13        5642903      F  2016-04-29T18:38:08Z   \n",
              "1       5.589978e+14        5642503      M  2016-04-29T16:08:27Z   \n",
              "2       4.262962e+12        5642549      F  2016-04-29T16:19:04Z   \n",
              "3       8.679512e+11        5642828      F  2016-04-29T17:29:31Z   \n",
              "4       8.841186e+12        5642494      F  2016-04-29T16:07:23Z   \n",
              "...              ...            ...    ...                   ...   \n",
              "110522  2.572134e+12        5651768      F  2016-05-03T09:15:35Z   \n",
              "110523  3.596266e+12        5650093      F  2016-05-03T07:27:33Z   \n",
              "110524  1.557663e+13        5630692      F  2016-04-27T16:03:52Z   \n",
              "110525  9.213493e+13        5630323      F  2016-04-27T15:09:23Z   \n",
              "110526  3.775115e+14        5629448      F  2016-04-27T13:30:56Z   \n",
              "\n",
              "              AppointmentDay  Age      Neighbourhood  Scholarship  \\\n",
              "0       2016-04-29T00:00:00Z   62    JARDIM DA PENHA            0   \n",
              "1       2016-04-29T00:00:00Z   56    JARDIM DA PENHA            0   \n",
              "2       2016-04-29T00:00:00Z   62      MATA DA PRAIA            0   \n",
              "3       2016-04-29T00:00:00Z    8  PONTAL DE CAMBURI            0   \n",
              "4       2016-04-29T00:00:00Z   56    JARDIM DA PENHA            0   \n",
              "...                      ...  ...                ...          ...   \n",
              "110522  2016-06-07T00:00:00Z   56        MARIA ORTIZ            0   \n",
              "110523  2016-06-07T00:00:00Z   51        MARIA ORTIZ            0   \n",
              "110524  2016-06-07T00:00:00Z   21        MARIA ORTIZ            0   \n",
              "110525  2016-06-07T00:00:00Z   38        MARIA ORTIZ            0   \n",
              "110526  2016-06-07T00:00:00Z   54        MARIA ORTIZ            0   \n",
              "\n",
              "        Hipertension  Diabetes  Alcoholism  Handcap  SMS_received No-show  \n",
              "0                  1         0           0        0             0      No  \n",
              "1                  0         0           0        0             0      No  \n",
              "2                  0         0           0        0             0      No  \n",
              "3                  0         0           0        0             0      No  \n",
              "4                  1         1           0        0             0      No  \n",
              "...              ...       ...         ...      ...           ...     ...  \n",
              "110522             0         0           0        0             1      No  \n",
              "110523             0         0           0        0             1      No  \n",
              "110524             0         0           0        0             1      No  \n",
              "110525             0         0           0        0             1      No  \n",
              "110526             0         0           0        0             1      No  \n",
              "\n",
              "[110527 rows x 14 columns]"
            ]
          },
          "execution_count": 3,
          "metadata": {},
          "output_type": "execute_result"
        }
      ],
      "source": [
        "# Load your data and print out a few lines. Perform operations to inspect data\n",
        "#   types and look for instances of missing or possibly errant data.\n",
        "\n",
        "df = pd.read_csv(\"noshowappointments-kagglev2-may-2016.csv\")\n",
        "df"
      ]
    },
    {
      "cell_type": "code",
      "execution_count": null,
      "metadata": {
        "id": "-5Tu1xz8E0vp",
        "outputId": "6dd10cb0-0130-44fb-d5df-0e2e8cf4fdec"
      },
      "outputs": [
        {
          "data": {
            "text/plain": [
              "(110527, 14)"
            ]
          },
          "execution_count": 4,
          "metadata": {},
          "output_type": "execute_result"
        }
      ],
      "source": [
        "# adding description about the columns\n",
        "# So we have 14 columns (features) in total and 110527 rows (patients) in total\n",
        "df.shape"
      ]
    },
    {
      "cell_type": "code",
      "execution_count": null,
      "metadata": {
        "id": "R5sQBv5wE0vp",
        "outputId": "4db1eff3-1760-4fb9-ecb7-b1efbbb075d3"
      },
      "outputs": [
        {
          "data": {
            "text/html": [
              "<div>\n",
              "<style scoped>\n",
              "    .dataframe tbody tr th:only-of-type {\n",
              "        vertical-align: middle;\n",
              "    }\n",
              "\n",
              "    .dataframe tbody tr th {\n",
              "        vertical-align: top;\n",
              "    }\n",
              "\n",
              "    .dataframe thead th {\n",
              "        text-align: right;\n",
              "    }\n",
              "</style>\n",
              "<table border=\"1\" class=\"dataframe\">\n",
              "  <thead>\n",
              "    <tr style=\"text-align: right;\">\n",
              "      <th></th>\n",
              "      <th>PatientId</th>\n",
              "      <th>AppointmentID</th>\n",
              "      <th>Age</th>\n",
              "      <th>Scholarship</th>\n",
              "      <th>Hipertension</th>\n",
              "      <th>Diabetes</th>\n",
              "      <th>Alcoholism</th>\n",
              "      <th>Handcap</th>\n",
              "      <th>SMS_received</th>\n",
              "    </tr>\n",
              "  </thead>\n",
              "  <tbody>\n",
              "    <tr>\n",
              "      <th>count</th>\n",
              "      <td>1.105270e+05</td>\n",
              "      <td>1.105270e+05</td>\n",
              "      <td>110527.000000</td>\n",
              "      <td>110527.000000</td>\n",
              "      <td>110527.000000</td>\n",
              "      <td>110527.000000</td>\n",
              "      <td>110527.000000</td>\n",
              "      <td>110527.000000</td>\n",
              "      <td>110527.000000</td>\n",
              "    </tr>\n",
              "    <tr>\n",
              "      <th>mean</th>\n",
              "      <td>1.474963e+14</td>\n",
              "      <td>5.675305e+06</td>\n",
              "      <td>37.088874</td>\n",
              "      <td>0.098266</td>\n",
              "      <td>0.197246</td>\n",
              "      <td>0.071865</td>\n",
              "      <td>0.030400</td>\n",
              "      <td>0.022248</td>\n",
              "      <td>0.321026</td>\n",
              "    </tr>\n",
              "    <tr>\n",
              "      <th>std</th>\n",
              "      <td>2.560949e+14</td>\n",
              "      <td>7.129575e+04</td>\n",
              "      <td>23.110205</td>\n",
              "      <td>0.297675</td>\n",
              "      <td>0.397921</td>\n",
              "      <td>0.258265</td>\n",
              "      <td>0.171686</td>\n",
              "      <td>0.161543</td>\n",
              "      <td>0.466873</td>\n",
              "    </tr>\n",
              "    <tr>\n",
              "      <th>min</th>\n",
              "      <td>3.921784e+04</td>\n",
              "      <td>5.030230e+06</td>\n",
              "      <td>-1.000000</td>\n",
              "      <td>0.000000</td>\n",
              "      <td>0.000000</td>\n",
              "      <td>0.000000</td>\n",
              "      <td>0.000000</td>\n",
              "      <td>0.000000</td>\n",
              "      <td>0.000000</td>\n",
              "    </tr>\n",
              "    <tr>\n",
              "      <th>25%</th>\n",
              "      <td>4.172614e+12</td>\n",
              "      <td>5.640286e+06</td>\n",
              "      <td>18.000000</td>\n",
              "      <td>0.000000</td>\n",
              "      <td>0.000000</td>\n",
              "      <td>0.000000</td>\n",
              "      <td>0.000000</td>\n",
              "      <td>0.000000</td>\n",
              "      <td>0.000000</td>\n",
              "    </tr>\n",
              "    <tr>\n",
              "      <th>50%</th>\n",
              "      <td>3.173184e+13</td>\n",
              "      <td>5.680573e+06</td>\n",
              "      <td>37.000000</td>\n",
              "      <td>0.000000</td>\n",
              "      <td>0.000000</td>\n",
              "      <td>0.000000</td>\n",
              "      <td>0.000000</td>\n",
              "      <td>0.000000</td>\n",
              "      <td>0.000000</td>\n",
              "    </tr>\n",
              "    <tr>\n",
              "      <th>75%</th>\n",
              "      <td>9.439172e+13</td>\n",
              "      <td>5.725524e+06</td>\n",
              "      <td>55.000000</td>\n",
              "      <td>0.000000</td>\n",
              "      <td>0.000000</td>\n",
              "      <td>0.000000</td>\n",
              "      <td>0.000000</td>\n",
              "      <td>0.000000</td>\n",
              "      <td>1.000000</td>\n",
              "    </tr>\n",
              "    <tr>\n",
              "      <th>max</th>\n",
              "      <td>9.999816e+14</td>\n",
              "      <td>5.790484e+06</td>\n",
              "      <td>115.000000</td>\n",
              "      <td>1.000000</td>\n",
              "      <td>1.000000</td>\n",
              "      <td>1.000000</td>\n",
              "      <td>1.000000</td>\n",
              "      <td>4.000000</td>\n",
              "      <td>1.000000</td>\n",
              "    </tr>\n",
              "  </tbody>\n",
              "</table>\n",
              "</div>"
            ],
            "text/plain": [
              "          PatientId  AppointmentID            Age    Scholarship  \\\n",
              "count  1.105270e+05   1.105270e+05  110527.000000  110527.000000   \n",
              "mean   1.474963e+14   5.675305e+06      37.088874       0.098266   \n",
              "std    2.560949e+14   7.129575e+04      23.110205       0.297675   \n",
              "min    3.921784e+04   5.030230e+06      -1.000000       0.000000   \n",
              "25%    4.172614e+12   5.640286e+06      18.000000       0.000000   \n",
              "50%    3.173184e+13   5.680573e+06      37.000000       0.000000   \n",
              "75%    9.439172e+13   5.725524e+06      55.000000       0.000000   \n",
              "max    9.999816e+14   5.790484e+06     115.000000       1.000000   \n",
              "\n",
              "        Hipertension       Diabetes     Alcoholism        Handcap  \\\n",
              "count  110527.000000  110527.000000  110527.000000  110527.000000   \n",
              "mean        0.197246       0.071865       0.030400       0.022248   \n",
              "std         0.397921       0.258265       0.171686       0.161543   \n",
              "min         0.000000       0.000000       0.000000       0.000000   \n",
              "25%         0.000000       0.000000       0.000000       0.000000   \n",
              "50%         0.000000       0.000000       0.000000       0.000000   \n",
              "75%         0.000000       0.000000       0.000000       0.000000   \n",
              "max         1.000000       1.000000       1.000000       4.000000   \n",
              "\n",
              "        SMS_received  \n",
              "count  110527.000000  \n",
              "mean        0.321026  \n",
              "std         0.466873  \n",
              "min         0.000000  \n",
              "25%         0.000000  \n",
              "50%         0.000000  \n",
              "75%         1.000000  \n",
              "max         1.000000  "
            ]
          },
          "execution_count": 5,
          "metadata": {},
          "output_type": "execute_result"
        }
      ],
      "source": [
        "# print a general statistics about the data\n",
        "df.describe()"
      ]
    },
    {
      "cell_type": "code",
      "execution_count": null,
      "metadata": {
        "id": "LvL6UlFgE0vq",
        "outputId": "af05240f-6aa5-476b-83cd-3b783b3dfcdf"
      },
      "outputs": [
        {
          "data": {
            "text/plain": [
              "PatientId         0\n",
              "AppointmentID     0\n",
              "Gender            0\n",
              "ScheduledDay      0\n",
              "AppointmentDay    0\n",
              "Age               0\n",
              "Neighbourhood     0\n",
              "Scholarship       0\n",
              "Hipertension      0\n",
              "Diabetes          0\n",
              "Alcoholism        0\n",
              "Handcap           0\n",
              "SMS_received      0\n",
              "No-show           0\n",
              "dtype: int64"
            ]
          },
          "execution_count": 6,
          "metadata": {},
          "output_type": "execute_result"
        }
      ],
      "source": [
        "# check if there is any null value in the dataset\n",
        "df.isnull().sum()"
      ]
    },
    {
      "cell_type": "code",
      "execution_count": null,
      "metadata": {
        "id": "Pz5bIdeWE0vq"
      },
      "outputs": [],
      "source": [
        "## We don't have any null values in the dataset"
      ]
    },
    {
      "cell_type": "code",
      "execution_count": null,
      "metadata": {
        "id": "cCvrJYrkE0vr",
        "outputId": "dee5ba03-6c6e-439f-98e1-c1840acdbd94"
      },
      "outputs": [
        {
          "data": {
            "text/plain": [
              "0"
            ]
          },
          "execution_count": 8,
          "metadata": {},
          "output_type": "execute_result"
        }
      ],
      "source": [
        "# check if there is any duplicate values in the dataset\n",
        "df.duplicated().sum()"
      ]
    },
    {
      "cell_type": "code",
      "execution_count": null,
      "metadata": {
        "id": "8KmH-hy5E0vr"
      },
      "outputs": [],
      "source": [
        "## the patientID columns is not needed for our analysis, so we can drop it\n",
        "df.drop(['PatientId'], axis=1, inplace=True)"
      ]
    },
    {
      "cell_type": "code",
      "execution_count": null,
      "metadata": {
        "id": "YH-9vglzE0vr",
        "outputId": "15dc3202-ab91-402b-a7e3-3456c6fbec35"
      },
      "outputs": [
        {
          "data": {
            "text/plain": [
              "0"
            ]
          },
          "execution_count": 10,
          "metadata": {},
          "output_type": "execute_result"
        }
      ],
      "source": [
        "## check if we have any duplicate in appointmentid column\n",
        "df['AppointmentID'].duplicated().sum()"
      ]
    },
    {
      "cell_type": "code",
      "execution_count": null,
      "metadata": {
        "id": "SQ9GRP4rE0vs",
        "outputId": "2d3f8920-0c9b-4f85-e633-225a4b01ad6b"
      },
      "outputs": [
        {
          "name": "stdout",
          "output_type": "stream",
          "text": [
            "<class 'pandas.core.frame.DataFrame'>\n",
            "RangeIndex: 110527 entries, 0 to 110526\n",
            "Data columns (total 13 columns):\n",
            " #   Column          Non-Null Count   Dtype \n",
            "---  ------          --------------   ----- \n",
            " 0   AppointmentID   110527 non-null  int64 \n",
            " 1   Gender          110527 non-null  object\n",
            " 2   ScheduledDay    110527 non-null  object\n",
            " 3   AppointmentDay  110527 non-null  object\n",
            " 4   Age             110527 non-null  int64 \n",
            " 5   Neighbourhood   110527 non-null  object\n",
            " 6   Scholarship     110527 non-null  int64 \n",
            " 7   Hipertension    110527 non-null  int64 \n",
            " 8   Diabetes        110527 non-null  int64 \n",
            " 9   Alcoholism      110527 non-null  int64 \n",
            " 10  Handcap         110527 non-null  int64 \n",
            " 11  SMS_received    110527 non-null  int64 \n",
            " 12  No-show         110527 non-null  object\n",
            "dtypes: int64(8), object(5)\n",
            "memory usage: 11.0+ MB\n"
          ]
        }
      ],
      "source": [
        "# print some information about the dataset\n",
        "df.info()"
      ]
    },
    {
      "cell_type": "code",
      "execution_count": null,
      "metadata": {
        "id": "n93vADckE0vs",
        "outputId": "6a94ef32-58b1-46ea-f069-bdbaab7bbe67"
      },
      "outputs": [
        {
          "data": {
            "text/html": [
              "<div>\n",
              "<style scoped>\n",
              "    .dataframe tbody tr th:only-of-type {\n",
              "        vertical-align: middle;\n",
              "    }\n",
              "\n",
              "    .dataframe tbody tr th {\n",
              "        vertical-align: top;\n",
              "    }\n",
              "\n",
              "    .dataframe thead th {\n",
              "        text-align: right;\n",
              "    }\n",
              "</style>\n",
              "<table border=\"1\" class=\"dataframe\">\n",
              "  <thead>\n",
              "    <tr style=\"text-align: right;\">\n",
              "      <th></th>\n",
              "      <th>AppointmentID</th>\n",
              "      <th>Gender</th>\n",
              "      <th>ScheduledDay</th>\n",
              "      <th>AppointmentDay</th>\n",
              "      <th>Age</th>\n",
              "      <th>Neighbourhood</th>\n",
              "      <th>Scholarship</th>\n",
              "      <th>Hipertension</th>\n",
              "      <th>Diabetes</th>\n",
              "      <th>Alcoholism</th>\n",
              "      <th>Handcap</th>\n",
              "      <th>SMS_received</th>\n",
              "      <th>No-show</th>\n",
              "    </tr>\n",
              "  </thead>\n",
              "  <tbody>\n",
              "    <tr>\n",
              "      <th>0</th>\n",
              "      <td>5642903</td>\n",
              "      <td>F</td>\n",
              "      <td>2016-04-29T18:38:08Z</td>\n",
              "      <td>2016-04-29T00:00:00Z</td>\n",
              "      <td>62</td>\n",
              "      <td>JARDIM DA PENHA</td>\n",
              "      <td>0</td>\n",
              "      <td>1</td>\n",
              "      <td>0</td>\n",
              "      <td>0</td>\n",
              "      <td>0</td>\n",
              "      <td>0</td>\n",
              "      <td>No</td>\n",
              "    </tr>\n",
              "    <tr>\n",
              "      <th>1</th>\n",
              "      <td>5642503</td>\n",
              "      <td>M</td>\n",
              "      <td>2016-04-29T16:08:27Z</td>\n",
              "      <td>2016-04-29T00:00:00Z</td>\n",
              "      <td>56</td>\n",
              "      <td>JARDIM DA PENHA</td>\n",
              "      <td>0</td>\n",
              "      <td>0</td>\n",
              "      <td>0</td>\n",
              "      <td>0</td>\n",
              "      <td>0</td>\n",
              "      <td>0</td>\n",
              "      <td>No</td>\n",
              "    </tr>\n",
              "    <tr>\n",
              "      <th>2</th>\n",
              "      <td>5642549</td>\n",
              "      <td>F</td>\n",
              "      <td>2016-04-29T16:19:04Z</td>\n",
              "      <td>2016-04-29T00:00:00Z</td>\n",
              "      <td>62</td>\n",
              "      <td>MATA DA PRAIA</td>\n",
              "      <td>0</td>\n",
              "      <td>0</td>\n",
              "      <td>0</td>\n",
              "      <td>0</td>\n",
              "      <td>0</td>\n",
              "      <td>0</td>\n",
              "      <td>No</td>\n",
              "    </tr>\n",
              "    <tr>\n",
              "      <th>3</th>\n",
              "      <td>5642828</td>\n",
              "      <td>F</td>\n",
              "      <td>2016-04-29T17:29:31Z</td>\n",
              "      <td>2016-04-29T00:00:00Z</td>\n",
              "      <td>8</td>\n",
              "      <td>PONTAL DE CAMBURI</td>\n",
              "      <td>0</td>\n",
              "      <td>0</td>\n",
              "      <td>0</td>\n",
              "      <td>0</td>\n",
              "      <td>0</td>\n",
              "      <td>0</td>\n",
              "      <td>No</td>\n",
              "    </tr>\n",
              "    <tr>\n",
              "      <th>4</th>\n",
              "      <td>5642494</td>\n",
              "      <td>F</td>\n",
              "      <td>2016-04-29T16:07:23Z</td>\n",
              "      <td>2016-04-29T00:00:00Z</td>\n",
              "      <td>56</td>\n",
              "      <td>JARDIM DA PENHA</td>\n",
              "      <td>0</td>\n",
              "      <td>1</td>\n",
              "      <td>1</td>\n",
              "      <td>0</td>\n",
              "      <td>0</td>\n",
              "      <td>0</td>\n",
              "      <td>No</td>\n",
              "    </tr>\n",
              "  </tbody>\n",
              "</table>\n",
              "</div>"
            ],
            "text/plain": [
              "   AppointmentID Gender          ScheduledDay        AppointmentDay  Age  \\\n",
              "0        5642903      F  2016-04-29T18:38:08Z  2016-04-29T00:00:00Z   62   \n",
              "1        5642503      M  2016-04-29T16:08:27Z  2016-04-29T00:00:00Z   56   \n",
              "2        5642549      F  2016-04-29T16:19:04Z  2016-04-29T00:00:00Z   62   \n",
              "3        5642828      F  2016-04-29T17:29:31Z  2016-04-29T00:00:00Z    8   \n",
              "4        5642494      F  2016-04-29T16:07:23Z  2016-04-29T00:00:00Z   56   \n",
              "\n",
              "       Neighbourhood  Scholarship  Hipertension  Diabetes  Alcoholism  \\\n",
              "0    JARDIM DA PENHA            0             1         0           0   \n",
              "1    JARDIM DA PENHA            0             0         0           0   \n",
              "2      MATA DA PRAIA            0             0         0           0   \n",
              "3  PONTAL DE CAMBURI            0             0         0           0   \n",
              "4    JARDIM DA PENHA            0             1         1           0   \n",
              "\n",
              "   Handcap  SMS_received No-show  \n",
              "0        0             0      No  \n",
              "1        0             0      No  \n",
              "2        0             0      No  \n",
              "3        0             0      No  \n",
              "4        0             0      No  "
            ]
          },
          "execution_count": 12,
          "metadata": {},
          "output_type": "execute_result"
        }
      ],
      "source": [
        "# print the first 5 rows of the dataset\n",
        "df.head()"
      ]
    },
    {
      "cell_type": "code",
      "execution_count": null,
      "metadata": {
        "id": "KhRrdV_nE0vs",
        "outputId": "81df41d2-ca37-49d3-99f8-6a36da23ad52"
      },
      "outputs": [
        {
          "name": "stdout",
          "output_type": "stream",
          "text": [
            "<class 'pandas.core.frame.DataFrame'>\n",
            "RangeIndex: 110527 entries, 0 to 110526\n",
            "Data columns (total 13 columns):\n",
            " #   Column          Non-Null Count   Dtype \n",
            "---  ------          --------------   ----- \n",
            " 0   AppointmentID   110527 non-null  int64 \n",
            " 1   Gender          110527 non-null  object\n",
            " 2   ScheduledDay    110527 non-null  object\n",
            " 3   AppointmentDay  110527 non-null  object\n",
            " 4   Age             110527 non-null  int64 \n",
            " 5   Neighbourhood   110527 non-null  object\n",
            " 6   Scholarship     110527 non-null  int64 \n",
            " 7   Hipertension    110527 non-null  int64 \n",
            " 8   Diabetes        110527 non-null  int64 \n",
            " 9   Alcoholism      110527 non-null  int64 \n",
            " 10  Handcap         110527 non-null  int64 \n",
            " 11  SMS_received    110527 non-null  int64 \n",
            " 12  No-show         110527 non-null  object\n",
            "dtypes: int64(8), object(5)\n",
            "memory usage: 11.0+ MB\n"
          ]
        }
      ],
      "source": [
        "# df.fillna(df.mean , inplace=True)\n",
        "df.info()\n",
        "# df.dropna(inplace=True)"
      ]
    },
    {
      "cell_type": "code",
      "execution_count": null,
      "metadata": {
        "id": "SuJtbhcnE0vt",
        "outputId": "dce8cf99-a7c0-45e9-c4fe-5413f8493d10"
      },
      "outputs": [
        {
          "data": {
            "text/plain": [
              "No-show\n",
              "No     88208\n",
              "Yes    22319\n",
              "Name: count, dtype: int64"
            ]
          },
          "execution_count": 14,
          "metadata": {},
          "output_type": "execute_result"
        }
      ],
      "source": [
        "# check how many show and no-show appointments we have\n",
        "df['No-show'].value_counts()\n",
        "# we see most of the patients show up to their appointments which is good."
      ]
    },
    {
      "cell_type": "code",
      "execution_count": null,
      "metadata": {
        "id": "pLNs6S1ZE0vt"
      },
      "outputs": [],
      "source": [
        "# check if we have duplicates in patientid column\n",
        "# df['PatientId'].duplicated().sum()\n",
        "### We have 48228 duplicate patientid values which means that we have 48228 patients who have booked more than one appointment"
      ]
    },
    {
      "cell_type": "code",
      "execution_count": null,
      "metadata": {
        "id": "9GPrq1UBE0vt",
        "outputId": "b3955dbf-2917-4611-9eae-d46eeb63558c"
      },
      "outputs": [
        {
          "data": {
            "text/plain": [
              "Gender\n",
              "F    71840\n",
              "M    38687\n",
              "Name: count, dtype: int64"
            ]
          },
          "execution_count": 16,
          "metadata": {},
          "output_type": "execute_result"
        }
      ],
      "source": [
        "# check the patients gender distribution\n",
        "\n",
        "df['Gender'].value_counts()"
      ]
    },
    {
      "cell_type": "code",
      "execution_count": null,
      "metadata": {
        "id": "e4dg459aE0vu"
      },
      "outputs": [],
      "source": [
        "import matplotlib.pyplot as plt"
      ]
    },
    {
      "cell_type": "code",
      "execution_count": null,
      "metadata": {
        "id": "88-7ukA2E0vu"
      },
      "outputs": [],
      "source": [
        "def plot_bar_graphs(df, feature, figsize=(8,6)):\n",
        "    \"\"\" this function takes a dataframe and a feature and plot a bar graph for that feature\"\"\"\n",
        "    df[feature].value_counts().plot(kind='bar', figsize=figsize);\n",
        "\n",
        "    feature = feature.replace('_', ' ').title()\n",
        "\n",
        "    plt.title(f'{feature} Distribution', fontsize=14)\n",
        "    plt.xlabel(f'{feature}', fontsize=12)\n",
        "    plt.ylabel('Frequency', fontsize=12)\n",
        "    plt.xticks(rotation=0, fontsize=12)\n",
        "    plt.yticks(fontsize=12);\n"
      ]
    },
    {
      "cell_type": "code",
      "execution_count": null,
      "metadata": {
        "id": "VouF8PtyE0vu",
        "outputId": "929bccbd-6c2e-49c7-b804-e810a9dfbe16"
      },
      "outputs": [
        {
          "data": {
            "image/png": "[encoded data removed]",
            "text/plain": [
              "<Figure size 800x600 with 1 Axes>"
            ]
          },
          "metadata": {},
          "output_type": "display_data"
        }
      ],
      "source": [
        "plot_bar_graphs(df, \"Gender\")"
      ]
    },
    {
      "cell_type": "code",
      "execution_count": null,
      "metadata": {
        "id": "bl9ho_IyE0vv",
        "outputId": "63a53431-9962-4c6c-e876-e7b6f2fcc1ed"
      },
      "outputs": [
        {
          "data": {
            "text/plain": [
              "No-show\n",
              "No     37.790064\n",
              "Yes    34.317667\n",
              "Name: Age, dtype: float64"
            ]
          },
          "execution_count": 23,
          "metadata": {},
          "output_type": "execute_result"
        }
      ],
      "source": [
        "# check if the gender has any effect on the no-show appointments\n",
        "df.groupby('No-show')['Age'].mean()"
      ]
    },
    {
      "cell_type": "code",
      "execution_count": null,
      "metadata": {
        "id": "dLhXy5IyE0vv",
        "outputId": "50d99b21-055c-46a1-d2d1-fe28a9d941c0"
      },
      "outputs": [
        {
          "data": {
            "text/plain": [
              "count    110527.000000\n",
              "mean         37.088874\n",
              "std          23.110205\n",
              "min          -1.000000\n",
              "25%          18.000000\n",
              "50%          37.000000\n",
              "75%          55.000000\n",
              "max         115.000000\n",
              "Name: Age, dtype: float64"
            ]
          },
          "execution_count": 24,
          "metadata": {},
          "output_type": "execute_result"
        }
      ],
      "source": [
        "# check the age column to see if we have any outliers\n",
        "df['Age'].describe()"
      ]
    },
    {
      "cell_type": "code",
      "execution_count": null,
      "metadata": {
        "id": "5DJaHvvXE0vw"
      },
      "outputs": [],
      "source": [
        "# the average age of the patients is 37 years old which is normal"
      ]
    },
    {
      "cell_type": "code",
      "execution_count": null,
      "metadata": {
        "id": "3rm_qzzmE0vw"
      },
      "outputs": [],
      "source": [
        "# there is a negative value in the age column which is not possible, so we will drop it\n",
        "df.drop(df[df['Age'] < 0].index, inplace=True)\n"
      ]
    },
    {
      "cell_type": "code",
      "execution_count": null,
      "metadata": {
        "id": "mW6n3VYDE0vw",
        "outputId": "61d9eeaa-1e09-42a4-e5fc-dfa341153ca9"
      },
      "outputs": [
        {
          "data": {
            "text/plain": [
              "AppointmentID     7\n",
              "Gender            7\n",
              "ScheduledDay      7\n",
              "AppointmentDay    7\n",
              "Age               7\n",
              "Neighbourhood     7\n",
              "Scholarship       7\n",
              "Hipertension      7\n",
              "Diabetes          7\n",
              "Alcoholism        7\n",
              "Handcap           7\n",
              "SMS_received      7\n",
              "No-show           7\n",
              "dtype: int64"
            ]
          },
          "execution_count": 27,
          "metadata": {},
          "output_type": "execute_result"
        }
      ],
      "source": [
        "# see how many patients are older than 100 years old\n",
        "df[df['Age'] > 100].count()\n",
        "\n",
        "# we have 7 patients who are older than 100 years old which is normal"
      ]
    },
    {
      "cell_type": "code",
      "execution_count": null,
      "metadata": {
        "id": "yijdnIJxE0vw"
      },
      "outputs": [],
      "source": [
        "# so we don't have any relation between the age and the no-show"
      ]
    },
    {
      "cell_type": "code",
      "execution_count": null,
      "metadata": {
        "id": "otEecZi5E0vx",
        "outputId": "0aa27db0-a08a-4b3c-b115-b764a3cc6381"
      },
      "outputs": [
        {
          "data": {
            "text/plain": [
              "No-show  Gender\n",
              "No       F         57245\n",
              "         M         30962\n",
              "Yes      F         14594\n",
              "         M          7725\n",
              "Name: count, dtype: int64"
            ]
          },
          "execution_count": 29,
          "metadata": {},
          "output_type": "execute_result"
        }
      ],
      "source": [
        "# see the relation between the age and the no-show\n",
        "df.groupby('No-show')['Gender'].value_counts()"
      ]
    },
    {
      "cell_type": "code",
      "execution_count": null,
      "metadata": {
        "id": "BEwq9eRAE0vx"
      },
      "outputs": [],
      "source": [
        "# we see that the number of femals are higher than the males in both show and no-show appointments\n",
        "# but this makes sense since their number is higher"
      ]
    },
    {
      "cell_type": "code",
      "execution_count": null,
      "metadata": {
        "id": "KLLoK2DSE0vx",
        "outputId": "d6bec1b6-3fb4-469a-ff24-f0ad39f898c2"
      },
      "outputs": [
        {
          "data": {
            "text/plain": [
              "Scholarship\n",
              "0    99665\n",
              "1    10861\n",
              "Name: count, dtype: int64"
            ]
          },
          "execution_count": 31,
          "metadata": {},
          "output_type": "execute_result"
        }
      ],
      "source": [
        "# check how many patients are having a scholarship\n",
        "df['Scholarship'].value_counts()\n",
        "# we have 10861 patients who have a scholarship and 99666 patients who don't have a scholarship\n"
      ]
    },
    {
      "cell_type": "code",
      "execution_count": null,
      "metadata": {
        "id": "4dLkAgWhE0vx",
        "outputId": "0dbd82b2-bfd3-4add-c07d-e9227403f4b6"
      },
      "outputs": [
        {
          "data": {
            "image/png": "[encoded data removed]",
            "text/plain": [
              "<Figure size 800x600 with 1 Axes>"
            ]
          },
          "metadata": {},
          "output_type": "display_data"
        }
      ],
      "source": [
        "# plot the number of patients who have a scholarship and who don't have a scholarship\n",
        "plot_bar_graphs(df, \"Scholarship\")"
      ]
    },
    {
      "cell_type": "code",
      "execution_count": null,
      "metadata": {
        "id": "3zs4pFl7E0vy",
        "outputId": "9cf4f5bf-75ab-48e9-c51a-a829e7fed263"
      },
      "outputs": [
        {
          "data": {
            "text/plain": [
              "No-show  Scholarship\n",
              "No       0              79924\n",
              "         1               8283\n",
              "Yes      0              19741\n",
              "         1               2578\n",
              "Name: count, dtype: int64"
            ]
          },
          "execution_count": 33,
          "metadata": {},
          "output_type": "execute_result"
        }
      ],
      "source": [
        "# check the relation between the scholarship and the no-show\n",
        "df.groupby('No-show')['Scholarship'].value_counts()"
      ]
    },
    {
      "cell_type": "code",
      "execution_count": null,
      "metadata": {
        "id": "0BHcB1d7E0vy"
      },
      "outputs": [],
      "source": [
        "# so we don't have any relation between the scholarship and the no-show\n",
        "# most of the patients who have a scholarship show up to their appointments\n",
        "# most of the patients who don't have a scholarship show up to their appointments\n",
        "# so we can say that the scholarship is not a factor that affects the no-show\n"
      ]
    },
    {
      "cell_type": "code",
      "execution_count": null,
      "metadata": {
        "id": "VLA-kyX9E0vy",
        "outputId": "4cab256f-15a7-48e8-ce58-ee6f7df84e82"
      },
      "outputs": [
        {
          "data": {
            "text/plain": [
              "Hipertension\n",
              "0    88725\n",
              "1    21801\n",
              "Name: count, dtype: int64"
            ]
          },
          "execution_count": 35,
          "metadata": {},
          "output_type": "execute_result"
        }
      ],
      "source": [
        "# check how many patients are having a hypertension\n",
        "df['Hipertension'].value_counts()\n",
        "# we have 21801 patients who have a hypertension and 88726 patients who don't have a hypertension\n"
      ]
    },
    {
      "cell_type": "code",
      "execution_count": null,
      "metadata": {
        "id": "1sDplIADE0vz",
        "outputId": "6d085d57-bfe8-42f4-d515-fe58544fdc7e"
      },
      "outputs": [
        {
          "data": {
            "text/plain": [
              "No-show  Hipertension\n",
              "No       0               70178\n",
              "         1               18029\n",
              "Yes      0               18547\n",
              "         1                3772\n",
              "Name: count, dtype: int64"
            ]
          },
          "execution_count": 36,
          "metadata": {},
          "output_type": "execute_result"
        }
      ],
      "source": [
        "# see the relation between the hypertension and the no-show\n",
        "df.groupby('No-show')['Hipertension'].value_counts()"
      ]
    },
    {
      "cell_type": "code",
      "execution_count": null,
      "metadata": {
        "id": "Kx3iW097E0vz"
      },
      "outputs": [],
      "source": [
        "# so we don't have any relation between the hypertension and the no-show\n",
        "# most of the patients who have a hypertension show up to their appointments\n",
        "# most of the patients who don't have a hypertension show up to their appointments\n",
        "# so we can say that the hypertension is not a factor that affects the no-show"
      ]
    },
    {
      "cell_type": "code",
      "execution_count": null,
      "metadata": {
        "id": "quVBTjcBE0vz",
        "outputId": "789d97f6-a4a8-49b6-f3cc-246a0f42ae20"
      },
      "outputs": [
        {
          "data": {
            "text/plain": [
              "Diabetes\n",
              "0    102583\n",
              "1      7943\n",
              "Name: count, dtype: int64"
            ]
          },
          "execution_count": 38,
          "metadata": {},
          "output_type": "execute_result"
        }
      ],
      "source": [
        "# check how many patients are having a diabetes\n",
        "df['Diabetes'].value_counts()\n",
        "# we have 7943 patients who have a diabetes and 102584 patients who don't have a diabetes"
      ]
    },
    {
      "cell_type": "code",
      "execution_count": null,
      "metadata": {
        "id": "hB4oPsqoE0vz",
        "outputId": "c21ff74e-0dfa-448c-f7c6-78f71bff4b3a"
      },
      "outputs": [
        {
          "data": {
            "text/plain": [
              "No-show  Diabetes\n",
              "No       0           81694\n",
              "         1            6513\n",
              "Yes      0           20889\n",
              "         1            1430\n",
              "Name: count, dtype: int64"
            ]
          },
          "execution_count": 39,
          "metadata": {},
          "output_type": "execute_result"
        }
      ],
      "source": [
        "# see the relation between the diabetes and the no-show\n",
        "df.groupby('No-show')['Diabetes'].value_counts()\n"
      ]
    },
    {
      "cell_type": "code",
      "execution_count": null,
      "metadata": {
        "id": "gu0tvnSWE0wD"
      },
      "outputs": [],
      "source": [
        "# so we don't have any relation between the diabetes and the no-show\n",
        "# most of the patients who have a diabetes show up to their appointments\n",
        "# most of the patients who don't have a diabetes show up to their appointments\n",
        "# so we can say that the diabetes is not a factor that affects the no-show\n"
      ]
    },
    {
      "cell_type": "code",
      "execution_count": null,
      "metadata": {
        "id": "lBFLL5LbE0wD",
        "outputId": "30709063-7a05-4500-a276-e3ae086481c2"
      },
      "outputs": [
        {
          "data": {
            "text/plain": [
              "Alcoholism\n",
              "0    107166\n",
              "1      3360\n",
              "Name: count, dtype: int64"
            ]
          },
          "execution_count": 41,
          "metadata": {},
          "output_type": "execute_result"
        }
      ],
      "source": [
        "# check how many patients are having a alcoholism\n",
        "df['Alcoholism'].value_counts()\n",
        "# we have 3360 patients who have a alcoholism and 107167 patients who don't have a alcoholism\n"
      ]
    },
    {
      "cell_type": "code",
      "execution_count": null,
      "metadata": {
        "id": "toSO8aPiE0wD",
        "outputId": "a7d07987-2346-4fbf-f9e7-0115c2bd9df2"
      },
      "outputs": [
        {
          "data": {
            "text/plain": [
              "No-show  Alcoholism\n",
              "No       0             85524\n",
              "         1              2683\n",
              "Yes      0             21642\n",
              "         1               677\n",
              "Name: count, dtype: int64"
            ]
          },
          "execution_count": 42,
          "metadata": {},
          "output_type": "execute_result"
        }
      ],
      "source": [
        "# see the relation between the alcoholism and the no-show\n",
        "df.groupby('No-show')['Alcoholism'].value_counts()"
      ]
    },
    {
      "cell_type": "code",
      "execution_count": null,
      "metadata": {
        "id": "Tj341ABaE0wE"
      },
      "outputs": [],
      "source": [
        "# so we don't have any relation between the alcoholism and the no-show\n",
        "# most of the patients who have a alcoholism show up to their appointments\n",
        "# most of the patients who don't have a alcoholism show up to their appointments\n",
        "# so we can say that the alcoholism is not a factor that affects the no-show\n"
      ]
    },
    {
      "cell_type": "code",
      "execution_count": null,
      "metadata": {
        "id": "j0qLAEM4E0wE",
        "outputId": "ec9adfe1-7047-4cfe-c262-66a09bc68e79"
      },
      "outputs": [
        {
          "data": {
            "text/plain": [
              "Handcap\n",
              "0    108285\n",
              "1      2042\n",
              "2       183\n",
              "3        13\n",
              "4         3\n",
              "Name: count, dtype: int64"
            ]
          },
          "execution_count": 44,
          "metadata": {},
          "output_type": "execute_result"
        }
      ],
      "source": [
        "# check how many patients are having a handicap\n",
        "df['Handcap'].value_counts()\n",
        "# we have 2241 patients who have a handicap and 108285 patients who don't have a handicap"
      ]
    },
    {
      "cell_type": "code",
      "execution_count": null,
      "metadata": {
        "id": "JjM7ooD7E0wE",
        "outputId": "cf959c9f-22ca-4b3b-c818-ef0014cbc507"
      },
      "outputs": [
        {
          "data": {
            "text/plain": [
              "2241"
            ]
          },
          "execution_count": 45,
          "metadata": {},
          "output_type": "execute_result"
        }
      ],
      "source": [
        "2042 + 183 + 13 + 3"
      ]
    },
    {
      "cell_type": "code",
      "execution_count": null,
      "metadata": {
        "id": "VxvpxIOXE0wF",
        "outputId": "bf399c65-9675-4568-ed30-6aff86115c1f"
      },
      "outputs": [
        {
          "data": {
            "text/plain": [
              "No-show  Handcap\n",
              "No       0          86373\n",
              "         1           1676\n",
              "         2            146\n",
              "         3             10\n",
              "         4              2\n",
              "Yes      0          21912\n",
              "         1            366\n",
              "         2             37\n",
              "         3              3\n",
              "         4              1\n",
              "Name: count, dtype: int64"
            ]
          },
          "execution_count": 46,
          "metadata": {},
          "output_type": "execute_result"
        }
      ],
      "source": [
        "# see the relation between the handicap and the no-show\n",
        "df.groupby('No-show')['Handcap'].value_counts()\n"
      ]
    },
    {
      "cell_type": "code",
      "execution_count": null,
      "metadata": {
        "id": "33k_YMseE0wF"
      },
      "outputs": [],
      "source": [
        "# so we don't have any relation between the handicap and the no-show\n",
        "# most of the patients who have a handicap show up to their appointments\n",
        "# most of the patients who don't have a handicap show up to their appointments\n",
        "# so we can say that the handicap is not a factor that affects the no-show\n"
      ]
    },
    {
      "cell_type": "code",
      "execution_count": null,
      "metadata": {
        "id": "zuVgHrKQE0wF",
        "outputId": "5f7ed6e2-887d-47fc-d306-c6039c7ac6d9"
      },
      "outputs": [
        {
          "data": {
            "text/plain": [
              "SMS_received\n",
              "0    75044\n",
              "1    35482\n",
              "Name: count, dtype: int64"
            ]
          },
          "execution_count": 48,
          "metadata": {},
          "output_type": "execute_result"
        }
      ],
      "source": [
        "# check how many patients are having a sms_received\n",
        "df['SMS_received'].value_counts()\n",
        "# we have 35482 patients who have received an sms and 75040 patients who haven't received an sms\n",
        "# so we can say that most of the patients haven't received an sms\n"
      ]
    },
    {
      "cell_type": "code",
      "execution_count": null,
      "metadata": {
        "id": "Xns3cYIHE0wG",
        "outputId": "639a63ab-3479-44be-88d3-982ebdbe9a24"
      },
      "outputs": [
        {
          "data": {
            "text/plain": [
              "No-show  SMS_received\n",
              "No       0               62509\n",
              "         1               25698\n",
              "Yes      0               12535\n",
              "         1                9784\n",
              "Name: count, dtype: int64"
            ]
          },
          "execution_count": 49,
          "metadata": {},
          "output_type": "execute_result"
        }
      ],
      "source": [
        "# see the relation between the sms_received and the no-show\n",
        "df.groupby('No-show')['SMS_received'].value_counts()\n"
      ]
    },
    {
      "cell_type": "code",
      "execution_count": null,
      "metadata": {
        "id": "n_S5LXdjE0wG"
      },
      "outputs": [],
      "source": [
        "# We can see that most of the patients who have received an sms show up to their appointments\n",
        "# also most of the patients who haven't received an sms show up to their appointments\n",
        "# so we can say that the sms_received is not a big factor that affects the no-show\n",
        "# but we can say that the patients who haven't received an sms are more likely to show up to their appointments\n"
      ]
    },
    {
      "cell_type": "markdown",
      "metadata": {
        "id": "Tc-aw9ojE0wG"
      },
      "source": [
        "\n",
        "### Data Cleaning"
      ]
    },
    {
      "cell_type": "code",
      "execution_count": null,
      "metadata": {
        "collapsed": true,
        "id": "3q4SBu35E0wG"
      },
      "outputs": [],
      "source": [
        "# After discussing the structure of the data and any problems that need to be\n",
        "#   cleaned, perform those cleaning steps in the second part of this section"
      ]
    },
    {
      "cell_type": "code",
      "execution_count": null,
      "metadata": {
        "id": "j3X0EUaGE0wH"
      },
      "outputs": [],
      "source": [
        "## We don't have any duplicate values in appointmentid column so we can drop it\n",
        "df.drop(['AppointmentID'], axis=1, inplace=True)"
      ]
    },
    {
      "cell_type": "code",
      "execution_count": null,
      "metadata": {
        "id": "wnnrLP-wE0wH"
      },
      "outputs": [],
      "source": [
        "# we will change the no-show column name to show_up to make it easier to understand\n",
        "df.rename(columns={'No-show': 'no_show_up'}, inplace=True)"
      ]
    },
    {
      "cell_type": "code",
      "execution_count": null,
      "metadata": {
        "id": "HcNTEcmBE0wH",
        "outputId": "9d59f4af-1ad8-45ee-abbd-b003c6b8d61b"
      },
      "outputs": [
        {
          "data": {
            "text/plain": [
              "dtype('O')"
            ]
          },
          "execution_count": 54,
          "metadata": {},
          "output_type": "execute_result"
        }
      ],
      "source": [
        "# we will check the data type of the appointment day column\n",
        "df['ScheduledDay'].dtype"
      ]
    },
    {
      "cell_type": "code",
      "execution_count": null,
      "metadata": {
        "id": "qmgG3hJIE0wI"
      },
      "outputs": [],
      "source": [
        "# dtype('O') means that the data type is object"
      ]
    },
    {
      "cell_type": "code",
      "execution_count": null,
      "metadata": {
        "id": "Y6f6OjQVE0wI",
        "outputId": "8e7a2b00-53e2-4e99-9f00-db04875b64df"
      },
      "outputs": [
        {
          "data": {
            "text/plain": [
              "dtype('O')"
            ]
          },
          "execution_count": 56,
          "metadata": {},
          "output_type": "execute_result"
        }
      ],
      "source": [
        "# we will check the data type of the appointment day column\n",
        "df['ScheduledDay'].dtype"
      ]
    },
    {
      "cell_type": "code",
      "execution_count": null,
      "metadata": {
        "id": "RueTLS3OE0wI"
      },
      "outputs": [],
      "source": [
        "# we will change the data type of the appointment day column to datetime\n",
        "df['ScheduledDay'] = pd.to_datetime(df['ScheduledDay'])\n"
      ]
    },
    {
      "cell_type": "code",
      "execution_count": null,
      "metadata": {
        "id": "UEeI3IciE0wJ",
        "outputId": "a6659493-a0b3-4413-e5ab-63b854a8c449"
      },
      "outputs": [
        {
          "data": {
            "text/plain": [
              "0   2016-04-29 18:38:08+00:00\n",
              "1   2016-04-29 16:08:27+00:00\n",
              "2   2016-04-29 16:19:04+00:00\n",
              "3   2016-04-29 17:29:31+00:00\n",
              "4   2016-04-29 16:07:23+00:00\n",
              "Name: ScheduledDay, dtype: datetime64[ns, UTC]"
            ]
          },
          "execution_count": 58,
          "metadata": {},
          "output_type": "execute_result"
        }
      ],
      "source": [
        "# show the first 5 rows of the appointment day column\n",
        "df['ScheduledDay'].head()\n"
      ]
    },
    {
      "cell_type": "code",
      "execution_count": null,
      "metadata": {
        "id": "zvxxYuNBE0wK",
        "outputId": "56668e96-9a90-4e45-d0b5-5e27356cd3b0"
      },
      "outputs": [
        {
          "data": {
            "text/plain": [
              "dtype('O')"
            ]
          },
          "execution_count": 59,
          "metadata": {},
          "output_type": "execute_result"
        }
      ],
      "source": [
        "# we will check the data type of the appointment day column\n",
        "df['AppointmentDay'].dtype"
      ]
    },
    {
      "cell_type": "code",
      "execution_count": null,
      "metadata": {
        "id": "ItA1I-hKE0wK"
      },
      "outputs": [],
      "source": [
        "# we will change the data type of the scheduled day column to datetime\n",
        "df['AppointmentDay'] = pd.to_datetime(df['AppointmentDay'])\n"
      ]
    },
    {
      "cell_type": "code",
      "execution_count": null,
      "metadata": {
        "id": "addJ4DhlE0wK",
        "outputId": "9eccea58-922a-42a9-99e2-ac191b77aaaa"
      },
      "outputs": [
        {
          "data": {
            "text/plain": [
              "0   2016-04-29 18:38:08+00:00\n",
              "1   2016-04-29 16:08:27+00:00\n",
              "2   2016-04-29 16:19:04+00:00\n",
              "3   2016-04-29 17:29:31+00:00\n",
              "4   2016-04-29 16:07:23+00:00\n",
              "Name: ScheduledDay, dtype: datetime64[ns, UTC]"
            ]
          },
          "execution_count": 61,
          "metadata": {},
          "output_type": "execute_result"
        }
      ],
      "source": [
        "# show the first 5 rows of the appointment day column\n",
        "df['ScheduledDay'].head()\n"
      ]
    },
    {
      "cell_type": "markdown",
      "metadata": {
        "id": "Fw13W1aGE0wL"
      },
      "source": [
        "<a id='eda'></a>\n",
        "## Exploratory Data Analysis\n",
        "\n",
        "### Research Question 1: Check the histogram of the dataset"
      ]
    },
    {
      "cell_type": "code",
      "execution_count": null,
      "metadata": {
        "id": "5XY5hzSnE0wL",
        "outputId": "9e3a853e-b2bd-4eac-aad5-130b6d4c4d5a"
      },
      "outputs": [
        {
          "data": {
            "image/png": "[encoded data removed]",
            "text/plain": [
              "<Figure size 1500x1500 with 9 Axes>"
            ]
          },
          "metadata": {},
          "output_type": "display_data"
        }
      ],
      "source": [
        "import matplotlib.pyplot as plt\n",
        "\n",
        "# plot all the columns in the dataset except the date column\n",
        "# df.drop(['ScheduledDay', 'AppointmentDay'], axis=1, inplace=True)\n",
        "df.hist(figsize=(15, 15))\n",
        "\n",
        "# add a title to the plot\n",
        "plt.suptitle(\"Histograms of all the columns in the dataset\", fontsize=16)\n",
        "\n",
        "# add space between title and the plot\n",
        "plt.subplots_adjust(top=0.9, bottom=0.5)  # Adjust the bottom parameter to add space\n",
        "\n",
        "# iterate over each subplot\n",
        "X_labels = [\"Scheduled Date\", \"Appointment Date\", \"Age\", \"Scholarship\", \"Hypertension\", \"Diabetes\", \"Alcoholism\", \"Handicap\", \"SMS Received\"]\n",
        "\n",
        "for i, ax in enumerate(plt.gcf().axes):\n",
        "    ax.tick_params(axis='x', labelrotation=90, labelsize=12)  # rotate x-labels and set font size\n",
        "    ax.tick_params(axis='y', labelsize=12)  # set y-label font size\n",
        "    ax.set_xlabel(X_labels[i], fontsize=12)  # set x-label\n",
        "    ax.set_ylabel(\"Frequency\", fontsize=12)  # set y-label\n",
        "    # add space between the plot and the x label\n",
        "\n",
        "\n",
        "# add space between the plots\n",
        "plt.tight_layout()\n",
        "\n",
        "# display the plot\n",
        "plt.show()"
      ]
    },
    {
      "cell_type": "code",
      "execution_count": null,
      "metadata": {
        "id": "m_q-GfNwE0wL",
        "outputId": "52489288-5ad7-4502-e338-88b03abdb80f"
      },
      "outputs": [
        {
          "data": {
            "text/plain": [
              "104654      0\n",
              "44729       0\n",
              "29671       0\n",
              "42673       0\n",
              "42674       0\n",
              "         ... \n",
              "97666     115\n",
              "68127     115\n",
              "63912     115\n",
              "76284     115\n",
              "63915     115\n",
              "Name: Age, Length: 110526, dtype: int64"
            ]
          },
          "execution_count": 75,
          "metadata": {},
          "output_type": "execute_result"
        }
      ],
      "source": [
        "# sort the age column to see the distribution of the age\n",
        "df['Age'].sort_values()"
      ]
    },
    {
      "cell_type": "code",
      "execution_count": null,
      "metadata": {
        "id": "3XhGGw2KE0wL",
        "outputId": "3c726c98-9e1b-422f-e610-14cdc2b04e3a"
      },
      "outputs": [
        {
          "data": {
            "text/plain": [
              "array([ 62,  56,   8,  76,  23,  39,  21,  19,  30,  29,  22,  28,  54,\n",
              "        15,  50,  40,  46,   4,  13,  65,  45,  51,  32,  12,  61,  38,\n",
              "        79,  18,  63,  64,  85,  59,  55,  71,  49,  78,  31,  58,  27,\n",
              "         6,   2,  11,   7,   0,   3,   1,  69,  68,  60,  67,  36,  10,\n",
              "        35,  20,  26,  34,  33,  16,  42,   5,  47,  17,  41,  44,  37,\n",
              "        24,  66,  77,  81,  70,  53,  75,  73,  52,  74,  43,  89,  57,\n",
              "        14,   9,  48,  83,  72,  25,  80,  87,  88,  84,  82,  90,  94,\n",
              "        86,  91,  98,  92,  96,  93,  95,  97, 102, 115, 100,  99])"
            ]
          },
          "execution_count": 76,
          "metadata": {},
          "output_type": "execute_result"
        }
      ],
      "source": [
        "# print the unique values in the age column\n",
        "df['Age'].unique()"
      ]
    },
    {
      "cell_type": "code",
      "execution_count": null,
      "metadata": {
        "id": "AZlwLeSsE0wM",
        "outputId": "00994e6a-7514-414a-dffe-96cf3d71fc8b"
      },
      "outputs": [
        {
          "data": {
            "text/plain": [
              "Text(0, 0.5, 'Frequency')"
            ]
          },
          "execution_count": 77,
          "metadata": {},
          "output_type": "execute_result"
        },
        {
          "data": {
            "image/png": "[encoded data removed]",
            "text/plain": [
              "<Figure size 1500x800 with 1 Axes>"
            ]
          },
          "metadata": {},
          "output_type": "display_data"
        }
      ],
      "source": [
        "# plot the age distribution of the patients who show up to their appointments\n",
        "df[df['no_show_up'] == 'No']['Age'].hist(alpha=0.5, label='no_show_up = No', figsize=(15,8))\n",
        "\n",
        "# adding a title to the plot\n",
        "plt.title(\"Age Distribution of the Patients who Show Up to their Appointments\", fontsize=16)\n",
        "\n",
        "# adding x label and y label to the plot\n",
        "plt.xlabel(\"Age\", fontsize=12)\n",
        "plt.ylabel(\"Frequency\", fontsize=12)"
      ]
    },
    {
      "cell_type": "code",
      "execution_count": null,
      "metadata": {
        "id": "ZVU55oIME0wN",
        "outputId": "59e5b1d3-205c-4c36-f89d-8db6709379cb"
      },
      "outputs": [
        {
          "data": {
            "text/plain": [
              "Text(0, 0.5, 'Frequency')"
            ]
          },
          "execution_count": 81,
          "metadata": {},
          "output_type": "execute_result"
        },
        {
          "data": {
            "image/png": "[encoded data removed]",
            "text/plain": [
              "<Figure size 1500x800 with 1 Axes>"
            ]
          },
          "metadata": {},
          "output_type": "display_data"
        }
      ],
      "source": [
        "# plot simple box plot for the age column\n",
        "\n",
        "df['Age'].plot(kind='box', figsize=(15,8))\n",
        "\n",
        "# add a title to the plot\n",
        "plt.title(\"Box Plot for the Age Column\", fontsize=16)\n",
        "\n",
        "# adding and y label to the plot\n",
        "plt.ylabel(\"Frequency\", fontsize=12)\n"
      ]
    },
    {
      "cell_type": "code",
      "execution_count": null,
      "metadata": {
        "id": "mznT70wUE0wN",
        "outputId": "1cc2b28f-b92c-4187-e0a0-6927532005fb"
      },
      "outputs": [
        {
          "data": {
            "text/plain": [
              "Text(0, 0.5, 'Age')"
            ]
          },
          "execution_count": 80,
          "metadata": {},
          "output_type": "execute_result"
        },
        {
          "data": {
            "image/png": "[encoded data removed]",
            "text/plain": [
              "<Figure size 1500x800 with 1 Axes>"
            ]
          },
          "metadata": {},
          "output_type": "display_data"
        }
      ],
      "source": [
        "# plot simple box plot allows you to depict the distribution of a continuous feature for different categories of a categorical feature.\n",
        "df.boxplot(column='Age', by='no_show_up', figsize=(15,8));\n",
        "\n",
        "# add a title to the plot\n",
        "plt.title(\"Box Plot for the Age Column\", fontsize=16)\n",
        "\n",
        "# adding y label to the plot\n",
        "plt.ylabel(\"Age\", fontsize=12)\n"
      ]
    },
    {
      "cell_type": "code",
      "execution_count": null,
      "metadata": {
        "id": "a4G8bS2pE0wO",
        "outputId": "dc90afc6-5ada-47e6-dd09-550fd02bcbf9"
      },
      "outputs": [
        {
          "data": {
            "text/plain": [
              "<matplotlib.legend.Legend at 0x7fad212206d0>"
            ]
          },
          "execution_count": 85,
          "metadata": {},
          "output_type": "execute_result"
        },
        {
          "data": {
            "image/png": "[encoded data removed]",
            "text/plain": [
              "<Figure size 1500x800 with 1 Axes>"
            ]
          },
          "metadata": {},
          "output_type": "display_data"
        }
      ],
      "source": [
        "# plot the relation between the Age and the diabetes and add a title to the plot and labels to the x and y axis\n",
        "df.groupby('Diabetes')['Age'].mean().plot(kind='pie', figsize=(15,8))\n",
        "plt.title('Relation between the Age and the Diabetes')\n",
        "\n",
        "\n",
        "# adding more details about the legend\n",
        "plt.legend(loc='upper right', bbox_to_anchor=(1.5, 0.5), labels=['No Diabetes', 'Diabetes'])\n",
        "\n",
        "# we can see that the patients who have a diabetes are older than the patients who don't have a diabetes"
      ]
    },
    {
      "cell_type": "markdown",
      "metadata": {
        "id": "EwZVX-t0E0wP"
      },
      "source": [
        "### Research Question 2: Check the correlation of the dataset"
      ]
    },
    {
      "cell_type": "code",
      "execution_count": null,
      "metadata": {
        "id": "o59sp4O6E0wP"
      },
      "outputs": [],
      "source": [
        "# check the correlation between the columns in the dataset\n",
        "# drop columns with string values\n",
        "\n",
        "# df.corr()\n",
        "\n",
        "# This will throw an error since we have string values in the dataset"
      ]
    },
    {
      "cell_type": "code",
      "execution_count": null,
      "metadata": {
        "id": "YRkfMCYbE0wQ",
        "outputId": "039dc031-05c8-4589-da64-ee7ca619c090"
      },
      "outputs": [
        {
          "name": "stdout",
          "output_type": "stream",
          "text": [
            "<class 'pandas.core.frame.DataFrame'>\n",
            "Index: 110526 entries, 0 to 110526\n",
            "Data columns (total 12 columns):\n",
            " #   Column          Non-Null Count   Dtype              \n",
            "---  ------          --------------   -----              \n",
            " 0   Gender          110526 non-null  object             \n",
            " 1   ScheduledDay    110526 non-null  datetime64[ns, UTC]\n",
            " 2   AppointmentDay  110526 non-null  datetime64[ns, UTC]\n",
            " 3   Age             110526 non-null  int64              \n",
            " 4   Neighbourhood   110526 non-null  object             \n",
            " 5   Scholarship     110526 non-null  int64              \n",
            " 6   Hipertension    110526 non-null  int64              \n",
            " 7   Diabetes        110526 non-null  int64              \n",
            " 8   Alcoholism      110526 non-null  int64              \n",
            " 9   Handcap         110526 non-null  int64              \n",
            " 10  SMS_received    110526 non-null  int64              \n",
            " 11  no_show_up      110526 non-null  object             \n",
            "dtypes: datetime64[ns, UTC](2), int64(7), object(3)\n",
            "memory usage: 11.0+ MB\n"
          ]
        }
      ],
      "source": [
        "# check the information about the dataset\n",
        "df.info()"
      ]
    },
    {
      "cell_type": "code",
      "execution_count": null,
      "metadata": {
        "id": "IpPF3XKtE0wR"
      },
      "outputs": [],
      "source": [
        "# we will converts the columns with string values to numerical values\n",
        "\n",
        "# Convert Gender column to 0 and 1\n",
        "df[\"Gender\"].replace({\"F\": 0, \"M\": 1}, inplace=True)"
      ]
    },
    {
      "cell_type": "code",
      "execution_count": null,
      "metadata": {
        "id": "CFHe0spZE0wR"
      },
      "outputs": [],
      "source": [
        "# Convert show_up column to 0 and 1\n",
        "df[\"no_show_up\"].replace({\"No\": 0, \"Yes\": 1}, inplace=True)\n"
      ]
    },
    {
      "cell_type": "code",
      "execution_count": null,
      "metadata": {
        "id": "e9PUxxwIE0wS"
      },
      "outputs": [],
      "source": [
        "# drop Neighbourhood column\n",
        "df.drop(['Neighbourhood'], axis=1, inplace=True)"
      ]
    },
    {
      "cell_type": "code",
      "execution_count": null,
      "metadata": {
        "id": "BlCtB0s4E0wS",
        "outputId": "69b02f31-f6ed-4463-b604-9b27ac6f46cf"
      },
      "outputs": [
        {
          "data": {
            "text/html": [
              "<div>\n",
              "<style scoped>\n",
              "    .dataframe tbody tr th:only-of-type {\n",
              "        vertical-align: middle;\n",
              "    }\n",
              "\n",
              "    .dataframe tbody tr th {\n",
              "        vertical-align: top;\n",
              "    }\n",
              "\n",
              "    .dataframe thead th {\n",
              "        text-align: right;\n",
              "    }\n",
              "</style>\n",
              "<table border=\"1\" class=\"dataframe\">\n",
              "  <thead>\n",
              "    <tr style=\"text-align: right;\">\n",
              "      <th></th>\n",
              "      <th>Gender</th>\n",
              "      <th>ScheduledDay</th>\n",
              "      <th>AppointmentDay</th>\n",
              "      <th>Age</th>\n",
              "      <th>Scholarship</th>\n",
              "      <th>Hipertension</th>\n",
              "      <th>Diabetes</th>\n",
              "      <th>Alcoholism</th>\n",
              "      <th>Handcap</th>\n",
              "      <th>SMS_received</th>\n",
              "      <th>no_show_up</th>\n",
              "    </tr>\n",
              "  </thead>\n",
              "  <tbody>\n",
              "    <tr>\n",
              "      <th>Gender</th>\n",
              "      <td>1.000000</td>\n",
              "      <td>0.018138</td>\n",
              "      <td>-0.007078</td>\n",
              "      <td>-0.106452</td>\n",
              "      <td>-0.114296</td>\n",
              "      <td>-0.055722</td>\n",
              "      <td>-0.032556</td>\n",
              "      <td>0.106166</td>\n",
              "      <td>0.022813</td>\n",
              "      <td>-0.046302</td>\n",
              "      <td>-0.004122</td>\n",
              "    </tr>\n",
              "    <tr>\n",
              "      <th>ScheduledDay</th>\n",
              "      <td>0.018138</td>\n",
              "      <td>1.000000</td>\n",
              "      <td>0.605046</td>\n",
              "      <td>-0.019936</td>\n",
              "      <td>0.023345</td>\n",
              "      <td>0.012689</td>\n",
              "      <td>0.022465</td>\n",
              "      <td>0.032530</td>\n",
              "      <td>0.013608</td>\n",
              "      <td>-0.257240</td>\n",
              "      <td>-0.162339</td>\n",
              "    </tr>\n",
              "    <tr>\n",
              "      <th>AppointmentDay</th>\n",
              "      <td>-0.007078</td>\n",
              "      <td>0.605046</td>\n",
              "      <td>1.000000</td>\n",
              "      <td>0.012123</td>\n",
              "      <td>-0.001168</td>\n",
              "      <td>-0.001263</td>\n",
              "      <td>0.001389</td>\n",
              "      <td>0.002869</td>\n",
              "      <td>-0.003503</td>\n",
              "      <td>0.093877</td>\n",
              "      <td>-0.022402</td>\n",
              "    </tr>\n",
              "    <tr>\n",
              "      <th>Age</th>\n",
              "      <td>-0.106452</td>\n",
              "      <td>-0.019936</td>\n",
              "      <td>0.012123</td>\n",
              "      <td>1.000000</td>\n",
              "      <td>-0.092463</td>\n",
              "      <td>0.504586</td>\n",
              "      <td>0.292391</td>\n",
              "      <td>0.095810</td>\n",
              "      <td>0.078032</td>\n",
              "      <td>0.012633</td>\n",
              "      <td>-0.060327</td>\n",
              "    </tr>\n",
              "    <tr>\n",
              "      <th>Scholarship</th>\n",
              "      <td>-0.114296</td>\n",
              "      <td>0.023345</td>\n",
              "      <td>-0.001168</td>\n",
              "      <td>-0.092463</td>\n",
              "      <td>1.000000</td>\n",
              "      <td>-0.019730</td>\n",
              "      <td>-0.024894</td>\n",
              "      <td>0.035022</td>\n",
              "      <td>-0.008587</td>\n",
              "      <td>0.001192</td>\n",
              "      <td>0.029134</td>\n",
              "    </tr>\n",
              "    <tr>\n",
              "      <th>Hipertension</th>\n",
              "      <td>-0.055722</td>\n",
              "      <td>0.012689</td>\n",
              "      <td>-0.001263</td>\n",
              "      <td>0.504586</td>\n",
              "      <td>-0.019730</td>\n",
              "      <td>1.000000</td>\n",
              "      <td>0.433085</td>\n",
              "      <td>0.087970</td>\n",
              "      <td>0.080083</td>\n",
              "      <td>-0.006270</td>\n",
              "      <td>-0.035704</td>\n",
              "    </tr>\n",
              "    <tr>\n",
              "      <th>Diabetes</th>\n",
              "      <td>-0.032556</td>\n",
              "      <td>0.022465</td>\n",
              "      <td>0.001389</td>\n",
              "      <td>0.292391</td>\n",
              "      <td>-0.024894</td>\n",
              "      <td>0.433085</td>\n",
              "      <td>1.000000</td>\n",
              "      <td>0.018473</td>\n",
              "      <td>0.057530</td>\n",
              "      <td>-0.014552</td>\n",
              "      <td>-0.015181</td>\n",
              "    </tr>\n",
              "    <tr>\n",
              "      <th>Alcoholism</th>\n",
              "      <td>0.106166</td>\n",
              "      <td>0.032530</td>\n",
              "      <td>0.002869</td>\n",
              "      <td>0.095810</td>\n",
              "      <td>0.035022</td>\n",
              "      <td>0.087970</td>\n",
              "      <td>0.018473</td>\n",
              "      <td>1.000000</td>\n",
              "      <td>0.004647</td>\n",
              "      <td>-0.026149</td>\n",
              "      <td>-0.000197</td>\n",
              "    </tr>\n",
              "    <tr>\n",
              "      <th>Handcap</th>\n",
              "      <td>0.022813</td>\n",
              "      <td>0.013608</td>\n",
              "      <td>-0.003503</td>\n",
              "      <td>0.078032</td>\n",
              "      <td>-0.008587</td>\n",
              "      <td>0.080083</td>\n",
              "      <td>0.057530</td>\n",
              "      <td>0.004647</td>\n",
              "      <td>1.000000</td>\n",
              "      <td>-0.024162</td>\n",
              "      <td>-0.006077</td>\n",
              "    </tr>\n",
              "    <tr>\n",
              "      <th>SMS_received</th>\n",
              "      <td>-0.046302</td>\n",
              "      <td>-0.257240</td>\n",
              "      <td>0.093877</td>\n",
              "      <td>0.012633</td>\n",
              "      <td>0.001192</td>\n",
              "      <td>-0.006270</td>\n",
              "      <td>-0.014552</td>\n",
              "      <td>-0.026149</td>\n",
              "      <td>-0.024162</td>\n",
              "      <td>1.000000</td>\n",
              "      <td>0.126428</td>\n",
              "    </tr>\n",
              "    <tr>\n",
              "      <th>no_show_up</th>\n",
              "      <td>-0.004122</td>\n",
              "      <td>-0.162339</td>\n",
              "      <td>-0.022402</td>\n",
              "      <td>-0.060327</td>\n",
              "      <td>0.029134</td>\n",
              "      <td>-0.035704</td>\n",
              "      <td>-0.015181</td>\n",
              "      <td>-0.000197</td>\n",
              "      <td>-0.006077</td>\n",
              "      <td>0.126428</td>\n",
              "      <td>1.000000</td>\n",
              "    </tr>\n",
              "  </tbody>\n",
              "</table>\n",
              "</div>"
            ],
            "text/plain": [
              "                  Gender  ScheduledDay  AppointmentDay       Age  Scholarship  \\\n",
              "Gender          1.000000      0.018138       -0.007078 -0.106452    -0.114296   \n",
              "ScheduledDay    0.018138      1.000000        0.605046 -0.019936     0.023345   \n",
              "AppointmentDay -0.007078      0.605046        1.000000  0.012123    -0.001168   \n",
              "Age            -0.106452     -0.019936        0.012123  1.000000    -0.092463   \n",
              "Scholarship    -0.114296      0.023345       -0.001168 -0.092463     1.000000   \n",
              "Hipertension   -0.055722      0.012689       -0.001263  0.504586    -0.019730   \n",
              "Diabetes       -0.032556      0.022465        0.001389  0.292391    -0.024894   \n",
              "Alcoholism      0.106166      0.032530        0.002869  0.095810     0.035022   \n",
              "Handcap         0.022813      0.013608       -0.003503  0.078032    -0.008587   \n",
              "SMS_received   -0.046302     -0.257240        0.093877  0.012633     0.001192   \n",
              "no_show_up     -0.004122     -0.162339       -0.022402 -0.060327     0.029134   \n",
              "\n",
              "                Hipertension  Diabetes  Alcoholism   Handcap  SMS_received  \\\n",
              "Gender             -0.055722 -0.032556    0.106166  0.022813     -0.046302   \n",
              "ScheduledDay        0.012689  0.022465    0.032530  0.013608     -0.257240   \n",
              "AppointmentDay     -0.001263  0.001389    0.002869 -0.003503      0.093877   \n",
              "Age                 0.504586  0.292391    0.095810  0.078032      0.012633   \n",
              "Scholarship        -0.019730 -0.024894    0.035022 -0.008587      0.001192   \n",
              "Hipertension        1.000000  0.433085    0.087970  0.080083     -0.006270   \n",
              "Diabetes            0.433085  1.000000    0.018473  0.057530     -0.014552   \n",
              "Alcoholism          0.087970  0.018473    1.000000  0.004647     -0.026149   \n",
              "Handcap             0.080083  0.057530    0.004647  1.000000     -0.024162   \n",
              "SMS_received       -0.006270 -0.014552   -0.026149 -0.024162      1.000000   \n",
              "no_show_up         -0.035704 -0.015181   -0.000197 -0.006077      0.126428   \n",
              "\n",
              "                no_show_up  \n",
              "Gender           -0.004122  \n",
              "ScheduledDay     -0.162339  \n",
              "AppointmentDay   -0.022402  \n",
              "Age              -0.060327  \n",
              "Scholarship       0.029134  \n",
              "Hipertension     -0.035704  \n",
              "Diabetes         -0.015181  \n",
              "Alcoholism       -0.000197  \n",
              "Handcap          -0.006077  \n",
              "SMS_received      0.126428  \n",
              "no_show_up        1.000000  "
            ]
          },
          "execution_count": 91,
          "metadata": {},
          "output_type": "execute_result"
        }
      ],
      "source": [
        "df.corr()"
      ]
    },
    {
      "cell_type": "code",
      "execution_count": null,
      "metadata": {
        "id": "Kc5Ai10ME0wT"
      },
      "outputs": [],
      "source": [
        "# we can see that the show_up column has a negative correlation with the sms_received column\n",
        "# which means that the patients who haven't received an sms are more likely to show up to their appointments\n"
      ]
    },
    {
      "cell_type": "markdown",
      "metadata": {
        "id": "0Gj7LSGUE0wT"
      },
      "source": [
        "<a id='conclusions'></a>\n",
        "## Conclusions"
      ]
    },
    {
      "cell_type": "code",
      "execution_count": null,
      "metadata": {
        "id": "zREDNxcPE0wT"
      },
      "outputs": [],
      "source": [
        "# Summary:\n",
        "# 1- We have 14 columns (features) in total and 110526 rows (patients) in total\n",
        "# 2- We don't have any null values in the dataset\n",
        "# 3- We have 48228 duplicate patientid values which means that we have 48228 patients who have booked more than one appointment\n",
        "# 4- We have 7 patients who are older than 100 years old which is normal\n",
        "# 5- We have 10861 patients who have a scholarship and 99666 patients who don't have a scholarship\n",
        "# 6- We have 21801 patients who have a hypertension and 88726 patients who don't have a hypertension\n",
        "# 7- We have 7943 patients who have a diabetes and 102584 patients who don't have a diabetes\n",
        "# 8- We have 3360 patients who have a alcoholism and 107167 patients who don't have a alcoholism\n",
        "# 9- We have 2241 patients who have a handicap and 108285 patients who don't have a handicap\n",
        "# 10- We have 35482 patients who have received an sms and 75040 patients who haven't received an sms\n",
        "# 11- We can see that most of the patients who have received an sms show up to their appointments\n",
        "# 12- Also most of the patients who haven't received an sms show up to their appointments\n",
        "# 13- So we can say that the sms_received is not a big factor that affects the no-show\n",
        "# 14- But we can say that the patients who haven't received an sms are more likely to show up to their appointments\n",
        "# 15- We can see that the show_up column has a negative correlation with the sms_received column\n",
        "# 16- Which means that the patients who haven't received an sms are more likely to show up to their appointments\n",
        "# 17- We have ignored the appointment day and the scheduled day columns since they are not needed for our analysis\n",
        "# 18- We have ignored the patientid column since it is not needed for our analysis\n",
        "# 19- We have ignored the appointmentid column since it is not needed for our analysis\n",
        "# 20- We have ignored the neighbourhood column since it is not needed for our analysis\n"
      ]
    },
    {
      "cell_type": "code",
      "execution_count": null,
      "metadata": {
        "id": "k4naMuI7E0wU"
      },
      "outputs": [],
      "source": [
        "# limitations of the study:\n",
        "\n",
        "# We have ignored the appointment day and the scheduled day columns\n",
        "# We have ignored the neighbourhood column"
      ]
    },
    {
      "cell_type": "code",
      "execution_count": null,
      "metadata": {
        "id": "FQwZk4l3E0wU"
      },
      "outputs": [],
      "source": [
        "# from subprocess import call\n",
        "# call(['python', '-m', 'nbconvert', 'Investigate_a_Dataset.ipynb'])"
      ]
    }
  ],
  "metadata": {
    "kernelspec": {
      "display_name": "project2",
      "language": "python",
      "name": "project2"
    },
    "language_info": {
      "codemirror_mode": {
        "name": "ipython",
        "version": 3
      },
      "file_extension": ".py",
      "mimetype": "text/x-python",
      "name": "python",
      "nbconvert_exporter": "python",
      "pygments_lexer": "ipython3",
      "version": "3.10.6"
    },
    "colab": {
      "provenance": [],
      "include_colab_link": true
    }
  },
  "nbformat": 4,
  "nbformat_minor": 0
}